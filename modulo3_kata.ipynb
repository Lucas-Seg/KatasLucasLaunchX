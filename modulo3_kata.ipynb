{
 "cells": [
  {
   "cell_type": "markdown",
   "metadata": {},
   "source": [
    "Kata 3. Escribir declaraciones if, else y elif"
   ]
  },
  {
   "cell_type": "code",
   "execution_count": 7,
   "metadata": {},
   "outputs": [
    {
     "name": "stdout",
     "output_type": "stream",
     "text": [
      "¡ADVERTENCIA! \n",
      "Se acerca un asteroide a 49 km/s\n"
     ]
    }
   ],
   "source": [
    "# Añadir el código necesario para crear una variable que guarde la velocidad del asteroide.\n",
    "# Escribe una expresión de prueba para calcular si necesita una advertencia.\n",
    "# Agregue las instrucciones que se ejecutarán si la expresión de prueba es true o false.\n",
    "\n",
    "vAsteroide = 49\n",
    "\n",
    "if vAsteroide > 25:\n",
    "    print(\"¡ADVERTENCIA! \\nSe acerca un asteroide a \" + str(vAsteroide) + \" km/s\")\n",
    "else:\n",
    "    print(\"No hay asteriodes peligrosos\")"
   ]
  },
  {
   "cell_type": "code",
   "execution_count": 30,
   "metadata": {},
   "outputs": [
    {
     "name": "stdout",
     "output_type": "stream",
     "text": [
      "No hay asteroides peligrosos\n"
     ]
    }
   ],
   "source": [
    "# Agrega el código para crear una variable para un asteroide que viaja a 19 km/s\n",
    "# Escribe varias expresiones de prueba para determinar si puedes ver el rayo de luz desde la tierra\n",
    "# Agrega las instrucciones que se ejecutarán si las expresiones de prueba son True o False\n",
    "\n",
    "vAsteroide = 19\n",
    "if vAsteroide > 25:\n",
    "        print(\"¡ADVERTENCIA! \\nSe acerca un asteroide a \" + str(vAsteroide) + \" km/s\")\n",
    "elif vAsteroide >= 20:\n",
    "    print(\"Alerta: busquen asteroides en el cielo\")\n",
    "else:\n",
    "    print(\"No hay asteroides peligrosos\")\n"
   ]
  },
  {
   "cell_type": "code",
   "execution_count": 36,
   "metadata": {},
   "outputs": [
    {
     "name": "stdout",
     "output_type": "stream",
     "text": [
      "Alerta: busquen asteroides en el cielo\n"
     ]
    }
   ],
   "source": [
    "# Agrega el código para crear nuevas variables para la velocidad y el tamaño del asteroide\n",
    "# Para probar el código, prueba con varias velocidades y tamaños\n",
    "# Escribe varias expresiones de prueba o combinaciones de expresiones de prueba para determinar qué mensaje se debe enviar a Tierra.\n",
    "\n",
    "vAsteroide = 20\n",
    "tAsteroide = 19\n",
    "\n",
    "if vAsteroide > 25 or tAsteroide > 25:\n",
    "        print(\"¡ADVERTENCIA! \\nSe acerca un asteroide peligroso a \" + str(vAsteroide) + \" km/s\")\n",
    "elif vAsteroide >= 20:\n",
    "    print(\"Alerta: busquen asteroides en el cielo\")\n",
    "else:\n",
    "    print(\"No hay asteroides peligrosos\")"
   ]
  }
 ],
 "metadata": {
  "interpreter": {
   "hash": "fdb3aa5f2416482d6f6427989883333a83aaf138529a0e1d2d120bab5f6fb602"
  },
  "kernelspec": {
   "display_name": "Python 3.10.2 64-bit",
   "language": "python",
   "name": "python3"
  },
  "language_info": {
   "codemirror_mode": {
    "name": "ipython",
    "version": 3
   },
   "file_extension": ".py",
   "mimetype": "text/x-python",
   "name": "python",
   "nbconvert_exporter": "python",
   "pygments_lexer": "ipython3",
   "version": "3.10.2"
  },
  "orig_nbformat": 4
 },
 "nbformat": 4,
 "nbformat_minor": 2
}
