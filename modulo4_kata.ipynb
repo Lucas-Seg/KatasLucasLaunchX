{
 "cells": [
  {
   "cell_type": "markdown",
   "metadata": {},
   "source": [
    "## Kata 4"
   ]
  },
  {
   "cell_type": "code",
   "execution_count": 2,
   "metadata": {},
   "outputs": [
    {
     "name": "stdout",
     "output_type": "stream",
     "text": [
      "['Interesting facts about the Moon', \" \\nThe Moon is Earth's only satellite\", ' \\nThere are several interesting facts about the Moon and how it affects life here on Earth', ' \\nOn average, the Moon moves 4cm away from the Earth every year', ' \\nThis yearly drift is not significant enough to cause immediate effects on Earth', '\\nThe highest daylight temperature of the Moon is 127 C', '']\n",
      "\n",
      "--------------\n",
      " \n",
      "On average, the Moon moves 4cm away from the Earth every year\n",
      "\n",
      "The highest daylight temperature of the Moon is 127 Celsius\n"
     ]
    }
   ],
   "source": [
    "# Ejercicio 1: Tansformar cadenas\n",
    "\n",
    "text = '''Interesting facts about the Moon. \n",
    "The Moon is Earth's only satellite. \n",
    "There are several interesting facts about the Moon and how it affects life here on Earth. \n",
    "On average, the Moon moves 4cm away from the Earth every year. \n",
    "This yearly drift is not significant enough to cause immediate effects on Earth.\n",
    "The highest daylight temperature of the Moon is 127 C.'''\n",
    "\n",
    "# Primero, divide el texto en cada oración para trabajar con su contenido:\n",
    "\n",
    "textS = text.split('.')\n",
    "print(textS)\n",
    "print('\\n--------------')\n",
    "#Ahora, define algunas palabras clave para búsqueda que te ayudarán a determinar si una oración contiene un hecho.\n",
    "\n",
    "pClave = ['average', 'distance', 'temperature']\n",
    "# Ciclo for para recorrer la cadena\n",
    "for clave in textS:\n",
    "    for palabra in pClave:\n",
    "        if palabra in clave:\n",
    "            #print(clave)\n",
    "            # Ciclo para cambiar C a Celsius\n",
    "            print(clave.replace('C', 'Celsius'))\n"
   ]
  },
  {
   "cell_type": "code",
   "execution_count": 41,
   "metadata": {},
   "outputs": [
    {
     "name": "stdout",
     "output_type": "stream",
     "text": [
      "Gravity Facts about Moon\n",
      "-------------------------------------\n",
      "name = Moon\n",
      "gravity in Moon = 1.6199999999999999 m/s^2\n",
      "planet = Earth\n",
      "\n",
      "Gravity facts about Genimedes\n",
      "------------------------------------------------\n",
      "Planet : Mars\n",
      "Gravity in Genimedes : 1.4300000000000002 m/s^2\n"
     ]
    }
   ],
   "source": [
    "# Ejercicio 2: Formateando cadenas\n",
    "\n",
    "# Datos\n",
    "name = \"Moon\"\n",
    "gravity = 0.00162 # in kms\n",
    "planet = \"Earth\"\n",
    "# creamos el titulo\n",
    "titulo = \"\"\"Gravity Facts about {moon}\"\"\".format(moon = name)\n",
    "# creamos la plantilla\n",
    "plantilla = \"\"\"\\n-------------------------------------\\nname = {nm}\n",
    "gravity in {nm} = {grave} m/s^2\n",
    "planet = {neta}\"\"\".format(nm =name, grave = gravity*1000, neta = planet)\n",
    "\n",
    "formato = titulo + plantilla\n",
    "print(formato)\n",
    "name = \"Genimedes\"\n",
    "gravity = 0.00143\n",
    "planet = \"Mars\"\n",
    "nuevo_formato = \"\"\"\n",
    "Gravity facts about {nombre}\n",
    "------------------------------------------------\n",
    "Planet : {planeta}\n",
    "Gravity in {nombre} : {gravedad} m/s^2\"\"\"\n",
    "\n",
    "print (nuevo_formato.format(nombre = name, gravedad = gravity *1000, planeta = planet))\n"
   ]
  }
 ],
 "metadata": {
  "interpreter": {
   "hash": "fdb3aa5f2416482d6f6427989883333a83aaf138529a0e1d2d120bab5f6fb602"
  },
  "kernelspec": {
   "display_name": "Python 3.10.2 64-bit",
   "language": "python",
   "name": "python3"
  },
  "language_info": {
   "codemirror_mode": {
    "name": "ipython",
    "version": 3
   },
   "file_extension": ".py",
   "mimetype": "text/x-python",
   "name": "python",
   "nbconvert_exporter": "python",
   "pygments_lexer": "ipython3",
   "version": "3.10.2"
  },
  "orig_nbformat": 4
 },
 "nbformat": 4,
 "nbformat_minor": 2
}
