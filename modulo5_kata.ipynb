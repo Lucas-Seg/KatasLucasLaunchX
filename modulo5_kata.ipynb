{
 "cells": [
  {
   "cell_type": "markdown",
   "metadata": {},
   "source": [
    "## Modulo 5 Kata"
   ]
  },
  {
   "cell_type": "code",
   "execution_count": 7,
   "metadata": {},
   "outputs": [
    {
     "name": "stdout",
     "output_type": "stream",
     "text": [
      "La distancia entre la Tierra y Jupiter es: 628949330 km\n",
      "La distancia entre la Tierra y Jupiter es: 390577533.93 millas\n"
     ]
    }
   ],
   "source": [
    "# Ejercicio 1\n",
    "tierra = 149597870\n",
    "jupiter = 778547200\n",
    "distK = abs(tierra - jupiter)\n",
    "print('La distancia entre la Tierra y Jupiter es: ' + str(distK) + ' km')\n",
    "distM = distK * 0.621\n",
    "print('La distancia entre la Tierra y Jupiter es: ' + str(distM) + ' millas')"
   ]
  },
  {
   "cell_type": "code",
   "execution_count": 17,
   "metadata": {},
   "outputs": [
    {
     "name": "stdout",
     "output_type": "stream",
     "text": [
      "La distancia del Planeta 1 al Planeta 2 es : 4437200000 kilometros\n",
      "La distancia del Planeta 1 al Planeta 2 es : 2755501200.0 millas\n"
     ]
    }
   ],
   "source": [
    "# Ejercicio 2\n",
    "planet1 = input(\"Introduzca la distancia del primer planeta (km): \")\n",
    "planet2 = input(\"Introduzca la distancia del segundo planeta (km): \")\n",
    "planet1 = int(planet1)\n",
    "planet2 = int(planet2)\n",
    "distP = abs(planet1 - planet2)\n",
    "print(\"La distancia del Planeta 1 al Planeta 2 es : \" + str(distP) + \" kilometros\")\n",
    "print (\"La distancia del Planeta 1 al Planeta 2 es : \" + str(distP*0.621) + \" millas\")"
   ]
  }
 ],
 "metadata": {
  "interpreter": {
   "hash": "fdb3aa5f2416482d6f6427989883333a83aaf138529a0e1d2d120bab5f6fb602"
  },
  "kernelspec": {
   "display_name": "Python 3.10.2 64-bit",
   "language": "python",
   "name": "python3"
  },
  "language_info": {
   "codemirror_mode": {
    "name": "ipython",
    "version": 3
   },
   "file_extension": ".py",
   "mimetype": "text/x-python",
   "name": "python",
   "nbconvert_exporter": "python",
   "pygments_lexer": "ipython3",
   "version": "3.10.2"
  },
  "orig_nbformat": 4
 },
 "nbformat": 4,
 "nbformat_minor": 2
}
