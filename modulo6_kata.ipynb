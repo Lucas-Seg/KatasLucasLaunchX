{
 "cells": [
  {
   "cell_type": "markdown",
   "metadata": {},
   "source": [
    "## Modulo 6 Kata"
   ]
  },
  {
   "cell_type": "code",
   "execution_count": 5,
   "metadata": {},
   "outputs": [
    {
     "name": "stdout",
     "output_type": "stream",
     "text": [
      "El numero de planetas es: 8\n",
      "El nuevo numero de planetas es: 9, el último es Plutón\n"
     ]
    }
   ],
   "source": [
    "# Ejercicio1: Crear y usar listas de Python\n",
    "planets = ['Mercurio', 'Venus', 'Tierra', 'Marte', 'Jupiter', 'Saturno', 'Urano', 'Neptuno']\n",
    "print('El numero de planetas es: ' + str(len(planets)))\n",
    "planets.append('Plutón')\n",
    "print('El nuevo numero de planetas es: ' + str(len(planets)) + ', el último es ' + planets[-1])"
   ]
  },
  {
   "cell_type": "code",
   "execution_count": 11,
   "metadata": {},
   "outputs": [
    {
     "name": "stdout",
     "output_type": "stream",
     "text": [
      "Los planetas mas cercanos al Sol que Venus son:\n",
      "['Mercurio']\n",
      "Los planetas mas alejados del sol que Venus son:\n",
      "['Tierra', 'Marte', 'Jupiter', 'Saturno', 'Urano', 'Neptuno']\n"
     ]
    }
   ],
   "source": [
    "# Ejercicio 2: Trabajando con datos de una lista\n",
    "planets = ['Mercurio', 'Venus', 'Tierra', 'Marte', 'Jupiter', 'Saturno', 'Urano', 'Neptuno']\n",
    "inPlanet = input('Ingrese un planeta (primer letra mayuscula): ')\n",
    "inPdex = planets.index(inPlanet)\n",
    "print('Los planetas mas cercanos al Sol que ' + inPlanet + ' son:')\n",
    "print(planets[0:inPdex])\n",
    "print('Los planetas mas alejados del sol que ' + inPlanet + ' son:')\n",
    "print(planets[inPdex+1:8])"
   ]
  }
 ],
 "metadata": {
  "interpreter": {
   "hash": "fdb3aa5f2416482d6f6427989883333a83aaf138529a0e1d2d120bab5f6fb602"
  },
  "kernelspec": {
   "display_name": "Python 3.10.2 64-bit",
   "language": "python",
   "name": "python3"
  },
  "language_info": {
   "codemirror_mode": {
    "name": "ipython",
    "version": 3
   },
   "file_extension": ".py",
   "mimetype": "text/x-python",
   "name": "python",
   "nbconvert_exporter": "python",
   "pygments_lexer": "ipython3",
   "version": "3.10.2"
  },
  "orig_nbformat": 4
 },
 "nbformat": 4,
 "nbformat_minor": 2
}
