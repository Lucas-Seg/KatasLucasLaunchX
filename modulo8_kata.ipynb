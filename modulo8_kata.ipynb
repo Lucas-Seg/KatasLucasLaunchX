{
 "cells": [
  {
   "cell_type": "markdown",
   "metadata": {},
   "source": [
    "## Modulo 8 Kata"
   ]
  },
  {
   "cell_type": "code",
   "execution_count": 20,
   "metadata": {},
   "outputs": [
    {
     "name": "stdout",
     "output_type": "stream",
     "text": [
      "Mars has 2 moons\n",
      "Mars polar circumference is: 6752 km\n"
     ]
    }
   ],
   "source": [
    "# Ejercicio 1: Creación de diccionarios de Python\n",
    "planet = {\n",
    "    'name' : 'Mars',\n",
    "    'moons' : 2\n",
    "}\n",
    "print(planet['name'] + ' has ' + str(planet['moons']) + ' moons' )\n",
    "planet['circunferencia(km)'] = {'polar' : 6752, 'equatorial' : 6792}\n",
    "print(planet['name']+\" polar circumference is: \" + str(planet['circunferencia(km)']['polar']) + ' km')"
   ]
  },
  {
   "cell_type": "code",
   "execution_count": 21,
   "metadata": {},
   "outputs": [
    {
     "name": "stdout",
     "output_type": "stream",
     "text": [
      "El numero total de lunas es : 214\n",
      "El promedio de lunas por planeta es : 17.833333333333332\n"
     ]
    }
   ],
   "source": [
    "#Ejercicio 2\n",
    "planet_moons = {\n",
    "    'mercury': 0,\n",
    "    'venus': 0,\n",
    "    'earth': 1,\n",
    "    'mars': 2,\n",
    "    'jupiter': 79,\n",
    "    'saturn': 82,\n",
    "    'uranus': 27,\n",
    "    'neptune': 14,\n",
    "    'pluto': 5,\n",
    "    'haumea': 2,\n",
    "    'makemake': 1,\n",
    "    'eris': 1\n",
    "}\n",
    "moons = planet_moons.values()\n",
    "planets = len(planet_moons.keys())\n",
    "total_moons= 0\n",
    "for cuenta in moons:\n",
    "    total_moons = total_moons + cuenta\n",
    "print('El numero total de lunas es : ' + str(total_moons))\n",
    "print('El promedio de lunas por planeta es : ' + str(total_moons/planets))"
   ]
  }
 ],
 "metadata": {
  "interpreter": {
   "hash": "fdb3aa5f2416482d6f6427989883333a83aaf138529a0e1d2d120bab5f6fb602"
  },
  "kernelspec": {
   "display_name": "Python 3.10.2 64-bit",
   "language": "python",
   "name": "python3"
  },
  "language_info": {
   "codemirror_mode": {
    "name": "ipython",
    "version": 3
   },
   "file_extension": ".py",
   "mimetype": "text/x-python",
   "name": "python",
   "nbconvert_exporter": "python",
   "pygments_lexer": "ipython3",
   "version": "3.10.2"
  },
  "orig_nbformat": 4
 },
 "nbformat": 4,
 "nbformat_minor": 2
}
