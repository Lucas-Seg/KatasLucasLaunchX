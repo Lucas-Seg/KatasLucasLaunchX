{
 "cells": [
  {
   "cell_type": "markdown",
   "metadata": {},
   "source": [
    "## Modulo 9 Kata"
   ]
  },
  {
   "cell_type": "code",
   "execution_count": 39,
   "metadata": {},
   "outputs": [
    {
     "name": "stdout",
     "output_type": "stream",
     "text": [
      "El tanque 1 tiene: 88 El tanque 2 tiene: 76 El tanque 3 tiene: 70\n",
      "El promedio es: None\n",
      "None\n"
     ]
    }
   ],
   "source": [
    "# Ejercicio 1: Trabajar con argumentos en funciones\n",
    "def promedio (tanques):\n",
    "    combustible = sum(tanques)\n",
    "    avg = combustible /3\n",
    "    #print(avg)\n",
    "\n",
    "\n",
    "def fuel_tanks (tank1, tank2, tank3):\n",
    "   # avg =  (tank1 + tank2 + tank3)/3\n",
    "    print('El tanque 1 tiene: ' + str(tank1) + ' El tanque 2 tiene: ' + str(tank2) + ' El tanque 3 tiene: ' + str(tank3) +'\\nEl promedio es: ' + str(promedio([tank1, tank2, tank3])))\n",
    "\n",
    "\n",
    "print(fuel_tanks(88, 76, 70))\n"
   ]
  },
  {
   "cell_type": "code",
   "execution_count": null,
   "metadata": {},
   "outputs": [],
   "source": [
    "def reporte (destino, *minutos, **reserva):"
   ]
  }
 ],
 "metadata": {
  "interpreter": {
   "hash": "fdb3aa5f2416482d6f6427989883333a83aaf138529a0e1d2d120bab5f6fb602"
  },
  "kernelspec": {
   "display_name": "Python 3.10.2 64-bit",
   "language": "python",
   "name": "python3"
  },
  "language_info": {
   "codemirror_mode": {
    "name": "ipython",
    "version": 3
   },
   "file_extension": ".py",
   "mimetype": "text/x-python",
   "name": "python",
   "nbconvert_exporter": "python",
   "pygments_lexer": "ipython3",
   "version": "3.10.2"
  },
  "orig_nbformat": 4
 },
 "nbformat": 4,
 "nbformat_minor": 2
}
